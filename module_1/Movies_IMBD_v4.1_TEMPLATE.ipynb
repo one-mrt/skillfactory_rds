{
 "cells": [
  {
   "cell_type": "code",
   "execution_count": 2,
   "metadata": {
    "_cell_guid": "b1076dfc-b9ad-4769-8c92-a6c4dae69d19",
    "_uuid": "8f2839f25d086af736a60e9eeb907d3b93b6e0e5",
    "colab": {},
    "colab_type": "code",
    "id": "U2D2gTdJVp90"
   },
   "outputs": [],
   "source": [
    "import numpy as np\n",
    "import pandas as pd\n",
    "import seaborn as sns\n",
    "import matplotlib.pyplot as plt\n",
    "from collections import Counter\n",
    "from IPython.display import display"
   ]
  },
  {
   "cell_type": "code",
   "execution_count": 3,
   "metadata": {
    "_cell_guid": "79c7e3d0-c299-4dcb-8224-4455121ee9b0",
    "_uuid": "d629ff2d2480ee46fbb7e2d37f6b5fab8052498a",
    "colab": {},
    "colab_type": "code",
    "id": "oyGfxL3eVp9-"
   },
   "outputs": [
    {
     "output_type": "execute_result",
     "data": {
      "text/plain": [
       "        imdb_id     budget    revenue             original_title  \\\n",
       "1075  tt1925431   20000000    4636169             Fire with Fire   \n",
       "504   tt0213149  140000000  449220945               Pearl Harbor   \n",
       "1738  tt0418279  150000000  709709780               Transformers   \n",
       "1746  tt0414055   25000000   74237563  Elizabeth: The Golden Age   \n",
       "821   tt0376136   45000000   24000000              The Rum Diary   \n",
       "\n",
       "                                                   cast        director  \\\n",
       "1075  Bruce Willis|Josh Duhamel|Rosario Dawson|Vince...   David Barrett   \n",
       "504   Ben Affleck|Josh Hartnett|Kate Beckinsale|Cuba...     Michael Bay   \n",
       "1738  Shia LaBeouf|Josh Duhamel|Megan Fox|Rachael Ta...     Michael Bay   \n",
       "1746  Cate Blanchett|Clive Owen|Geoffrey Rush|Lauren...   Shekhar Kapur   \n",
       "821   Johnny Depp|Amber Heard|Aaron Eckhart|Michael ...  Bruce Robinson   \n",
       "\n",
       "                                                tagline  \\\n",
       "1075                  Revenge has its own set of rules.   \n",
       "504   December 7, 1941 - A day that shall live in in...   \n",
       "1738                              Their war. Our world.   \n",
       "1746                             Woman. Warrior. Queen.   \n",
       "821   One part outrage. One part justice. Three part...   \n",
       "\n",
       "                                               overview  runtime  \\\n",
       "1075  A fireman takes an unexpected course of action...       97   \n",
       "504   The lifelong friendship between Rafe McCawley ...      183   \n",
       "1738  Young teenager, Sam Witwicky becomes involved ...      144   \n",
       "1746  This movie is a Sequel to the First Elizabeth ...      114   \n",
       "821   Tired of the noise and madness of New York and...      120   \n",
       "\n",
       "                                genres  \\\n",
       "1075       Action|Crime|Drama|Thriller   \n",
       "504                History|Romance|War   \n",
       "1738  Adventure|Science Fiction|Action   \n",
       "1746             Drama|History|Romance   \n",
       "821                       Drama|Comedy   \n",
       "\n",
       "                                   production_companies release_date  \\\n",
       "1075  Industry Entertainment|Grindstone Entertainmen...    8/31/2012   \n",
       "504         Jerry Bruckheimer Films|Touchstone Pictures    5/21/2001   \n",
       "1738  Paramount Pictures|DreamWorks SKG|Amblin Enter...    6/27/2007   \n",
       "1746  Universal Pictures|StudioCanal|Working Title F...     9/9/2007   \n",
       "821                 FilmEngine|Infinitum Nihil|GK Films   10/13/2011   \n",
       "\n",
       "      vote_average  release_year  \n",
       "1075           5.7          2012  \n",
       "504            6.6          2001  \n",
       "1738           6.6          2007  \n",
       "1746           6.4          2007  \n",
       "821            5.5          2011  "
      ],
      "text/html": "<div>\n<style scoped>\n    .dataframe tbody tr th:only-of-type {\n        vertical-align: middle;\n    }\n\n    .dataframe tbody tr th {\n        vertical-align: top;\n    }\n\n    .dataframe thead th {\n        text-align: right;\n    }\n</style>\n<table border=\"1\" class=\"dataframe\">\n  <thead>\n    <tr style=\"text-align: right;\">\n      <th></th>\n      <th>imdb_id</th>\n      <th>budget</th>\n      <th>revenue</th>\n      <th>original_title</th>\n      <th>cast</th>\n      <th>director</th>\n      <th>tagline</th>\n      <th>overview</th>\n      <th>runtime</th>\n      <th>genres</th>\n      <th>production_companies</th>\n      <th>release_date</th>\n      <th>vote_average</th>\n      <th>release_year</th>\n    </tr>\n  </thead>\n  <tbody>\n    <tr>\n      <th>1075</th>\n      <td>tt1925431</td>\n      <td>20000000</td>\n      <td>4636169</td>\n      <td>Fire with Fire</td>\n      <td>Bruce Willis|Josh Duhamel|Rosario Dawson|Vince...</td>\n      <td>David Barrett</td>\n      <td>Revenge has its own set of rules.</td>\n      <td>A fireman takes an unexpected course of action...</td>\n      <td>97</td>\n      <td>Action|Crime|Drama|Thriller</td>\n      <td>Industry Entertainment|Grindstone Entertainmen...</td>\n      <td>8/31/2012</td>\n      <td>5.7</td>\n      <td>2012</td>\n    </tr>\n    <tr>\n      <th>504</th>\n      <td>tt0213149</td>\n      <td>140000000</td>\n      <td>449220945</td>\n      <td>Pearl Harbor</td>\n      <td>Ben Affleck|Josh Hartnett|Kate Beckinsale|Cuba...</td>\n      <td>Michael Bay</td>\n      <td>December 7, 1941 - A day that shall live in in...</td>\n      <td>The lifelong friendship between Rafe McCawley ...</td>\n      <td>183</td>\n      <td>History|Romance|War</td>\n      <td>Jerry Bruckheimer Films|Touchstone Pictures</td>\n      <td>5/21/2001</td>\n      <td>6.6</td>\n      <td>2001</td>\n    </tr>\n    <tr>\n      <th>1738</th>\n      <td>tt0418279</td>\n      <td>150000000</td>\n      <td>709709780</td>\n      <td>Transformers</td>\n      <td>Shia LaBeouf|Josh Duhamel|Megan Fox|Rachael Ta...</td>\n      <td>Michael Bay</td>\n      <td>Their war. Our world.</td>\n      <td>Young teenager, Sam Witwicky becomes involved ...</td>\n      <td>144</td>\n      <td>Adventure|Science Fiction|Action</td>\n      <td>Paramount Pictures|DreamWorks SKG|Amblin Enter...</td>\n      <td>6/27/2007</td>\n      <td>6.6</td>\n      <td>2007</td>\n    </tr>\n    <tr>\n      <th>1746</th>\n      <td>tt0414055</td>\n      <td>25000000</td>\n      <td>74237563</td>\n      <td>Elizabeth: The Golden Age</td>\n      <td>Cate Blanchett|Clive Owen|Geoffrey Rush|Lauren...</td>\n      <td>Shekhar Kapur</td>\n      <td>Woman. Warrior. Queen.</td>\n      <td>This movie is a Sequel to the First Elizabeth ...</td>\n      <td>114</td>\n      <td>Drama|History|Romance</td>\n      <td>Universal Pictures|StudioCanal|Working Title F...</td>\n      <td>9/9/2007</td>\n      <td>6.4</td>\n      <td>2007</td>\n    </tr>\n    <tr>\n      <th>821</th>\n      <td>tt0376136</td>\n      <td>45000000</td>\n      <td>24000000</td>\n      <td>The Rum Diary</td>\n      <td>Johnny Depp|Amber Heard|Aaron Eckhart|Michael ...</td>\n      <td>Bruce Robinson</td>\n      <td>One part outrage. One part justice. Three part...</td>\n      <td>Tired of the noise and madness of New York and...</td>\n      <td>120</td>\n      <td>Drama|Comedy</td>\n      <td>FilmEngine|Infinitum Nihil|GK Films</td>\n      <td>10/13/2011</td>\n      <td>5.5</td>\n      <td>2011</td>\n    </tr>\n  </tbody>\n</table>\n</div>"
     },
     "metadata": {},
     "execution_count": 3
    }
   ],
   "source": [
    "data = pd.read_csv('movie_bd_v5.csv')\n",
    "data.sample(5)"
   ]
  },
  {
   "cell_type": "code",
   "execution_count": 4,
   "metadata": {
    "colab": {},
    "colab_type": "code",
    "id": "CoYUnagMVp-C"
   },
   "outputs": [
    {
     "output_type": "execute_result",
     "data": {
      "text/plain": [
       "             budget       revenue      runtime  vote_average  release_year\n",
       "count  1.889000e+03  1.889000e+03  1889.000000   1889.000000   1889.000000\n",
       "mean   5.431083e+07  1.553653e+08   109.658549      6.140762   2007.860773\n",
       "std    4.858721e+07  2.146698e+08    18.017041      0.764763      4.468841\n",
       "min    5.000000e+06  2.033165e+06    63.000000      3.300000   2000.000000\n",
       "25%    2.000000e+07  3.456058e+07    97.000000      5.600000   2004.000000\n",
       "50%    3.800000e+07  8.361541e+07   107.000000      6.100000   2008.000000\n",
       "75%    7.200000e+07  1.782626e+08   120.000000      6.600000   2012.000000\n",
       "max    3.800000e+08  2.781506e+09   214.000000      8.100000   2015.000000"
      ],
      "text/html": "<div>\n<style scoped>\n    .dataframe tbody tr th:only-of-type {\n        vertical-align: middle;\n    }\n\n    .dataframe tbody tr th {\n        vertical-align: top;\n    }\n\n    .dataframe thead th {\n        text-align: right;\n    }\n</style>\n<table border=\"1\" class=\"dataframe\">\n  <thead>\n    <tr style=\"text-align: right;\">\n      <th></th>\n      <th>budget</th>\n      <th>revenue</th>\n      <th>runtime</th>\n      <th>vote_average</th>\n      <th>release_year</th>\n    </tr>\n  </thead>\n  <tbody>\n    <tr>\n      <th>count</th>\n      <td>1.889000e+03</td>\n      <td>1.889000e+03</td>\n      <td>1889.000000</td>\n      <td>1889.000000</td>\n      <td>1889.000000</td>\n    </tr>\n    <tr>\n      <th>mean</th>\n      <td>5.431083e+07</td>\n      <td>1.553653e+08</td>\n      <td>109.658549</td>\n      <td>6.140762</td>\n      <td>2007.860773</td>\n    </tr>\n    <tr>\n      <th>std</th>\n      <td>4.858721e+07</td>\n      <td>2.146698e+08</td>\n      <td>18.017041</td>\n      <td>0.764763</td>\n      <td>4.468841</td>\n    </tr>\n    <tr>\n      <th>min</th>\n      <td>5.000000e+06</td>\n      <td>2.033165e+06</td>\n      <td>63.000000</td>\n      <td>3.300000</td>\n      <td>2000.000000</td>\n    </tr>\n    <tr>\n      <th>25%</th>\n      <td>2.000000e+07</td>\n      <td>3.456058e+07</td>\n      <td>97.000000</td>\n      <td>5.600000</td>\n      <td>2004.000000</td>\n    </tr>\n    <tr>\n      <th>50%</th>\n      <td>3.800000e+07</td>\n      <td>8.361541e+07</td>\n      <td>107.000000</td>\n      <td>6.100000</td>\n      <td>2008.000000</td>\n    </tr>\n    <tr>\n      <th>75%</th>\n      <td>7.200000e+07</td>\n      <td>1.782626e+08</td>\n      <td>120.000000</td>\n      <td>6.600000</td>\n      <td>2012.000000</td>\n    </tr>\n    <tr>\n      <th>max</th>\n      <td>3.800000e+08</td>\n      <td>2.781506e+09</td>\n      <td>214.000000</td>\n      <td>8.100000</td>\n      <td>2015.000000</td>\n    </tr>\n  </tbody>\n</table>\n</div>"
     },
     "metadata": {},
     "execution_count": 4
    }
   ],
   "source": [
    "data.describe()"
   ]
  },
  {
   "cell_type": "markdown",
   "metadata": {
    "colab_type": "text",
    "id": "DTIt7ezGVp-G"
   },
   "source": [
    "# Предобработка"
   ]
  },
  {
   "cell_type": "code",
   "execution_count": 106,
   "metadata": {
    "colab": {},
    "colab_type": "code",
    "id": "jNb40DwKVp-H"
   },
   "outputs": [],
   "source": [
    "#=============================================================================\n",
    "answers = {} # создадим словарь для ответов\n",
    "\n",
    "# тут другие ваши предобработки колонок например:\n",
    "\n",
    "#the time given in the dataset is in string format.\n",
    "#So we need to change this in datetime format\n",
    "# ...\n",
    "\n",
    "# Для 6 задания\n",
    "# Добавляем стоблец Прибыль - profit\n",
    "data = pd.read_csv('movie_bd_v5.csv')\n",
    "column_profit = pd.concat([pd.DataFrame(\n",
    "                                [data.revenue.values[k]\n",
    "                                -data.budget.values[k]],\n",
    "                                columns=['profit'])\n",
    "                            for k in range(data.budget.count())],\n",
    "                            ignore_index=True)\n",
    "data = pd.concat([data,column_profit],axis=1)\n",
    "\n",
    "# Добавляем стоблец Количество символов в назнвании фильма - str_title\n",
    "column_str_title = pd.concat([pd.DataFrame(\n",
    "                                [len(data.original_title.values[k])],\n",
    "                                columns=['str_title'])\n",
    "                            for k in range(data.original_title.count())],\n",
    "                            ignore_index=True)\n",
    "data = pd.concat([data,column_str_title],axis=1)\n",
    "\n",
    "# Добавляем стоблец количество символов в описании фильма - str_overview\n",
    "column_str_overview = pd.concat([pd.DataFrame(\n",
    "                                [len(data.overview.values[k].split(' '))],\n",
    "                                columns=['str_overview'])\n",
    "                            for k in range(data.overview.count())],\n",
    "                            ignore_index=True)\n",
    "data = pd.concat([data,column_str_overview],axis=1)\n",
    "\n",
    "# К заданию 21\n",
    "dict_month = {\n",
    "    '1' : 'Январь',\n",
    "    '2' : 'Февраль',\n",
    "    '3' : 'Март',\n",
    "    '4' : 'Апрель',\n",
    "    '5' : 'Май',\n",
    "    '6' : 'Июнь',\n",
    "    '7' : 'Июль',\n",
    "    '8' : 'Август',\n",
    "    '9' : 'Сентябрь',\n",
    "    '10' : 'Октябрь',\n",
    "    '11' : 'Ноябрь',\n",
    "    '12' : 'Декабрь'\n",
    "}\n",
    "\n",
    "def str_sum(data):\n",
    "    '''\n",
    "        Возвращает DataFrame со списком всех компаний\n",
    "        и количеством символов в их названиях\n",
    "    '''\n",
    "    str_dict = {}\n",
    "\n",
    "    for k in range(data.production_companies.values.size):\n",
    "\n",
    "        str_list = data.production_companies.values[k].split('|')\n",
    "\n",
    "        for j in range(len(str_list)):\n",
    "            \n",
    "            if not str_list[j] in str_dict:\n",
    "                str_dict[str_list[j]] = data.str_title.values[k]\n",
    "            elif str_dict[str_list[j]] < data.str_title.values[k]:\n",
    "                str_dict[str_list[j]] = data.str_title.values[k]\n",
    "\n",
    "    sum_values = list(str_dict.values());\n",
    "    sum_frame = pd.DataFrame([[sum_values[g]]\n",
    "                                    for g in range(len(sum_values))],\n",
    "                                columns=['values'],\n",
    "                                index=list(str_dict.keys()))\n",
    "    return sum_frame;\n",
    "\n",
    "# Функция к 11, 13, 16 заданию и не только\n",
    "def dict_split_item(data, key, sep='|',split=True,summ=False,\n",
    "                        keySum=False,indexSplit=-1):\n",
    "    '''\n",
    "        Функция разделяющая строку по разделителю и составляющая словарь\n",
    "        значений которых больше преобразующая его значения в DataFrame\n",
    "        и вовращает рузультат DataFrame\n",
    "    '''\n",
    "    dict_value = {}\n",
    "\n",
    "    for k in range(data[key].values.size):\n",
    "\n",
    "        if split:\n",
    "            list_item = data[key].values[k].split(sep)\n",
    "\n",
    "            if indexSplit >= 0:\n",
    "                if summ and keySum:\n",
    "                    if not list_item[indexSplit] in dict_value:\n",
    "                        dict_value[\n",
    "                            list_item[indexSplit]] = data[keySum].values[k]\n",
    "                    else:\n",
    "                        dict_value[\n",
    "                            list_item[indexSplit]] += data[keySum].values[k]\n",
    "                else:\n",
    "                    if not list_item[indexSplit] in dict_value:\n",
    "                        dict_value[list_item[indexSplit]] = 1\n",
    "                    else:\n",
    "                        dict_value[list_item[indexSplit]] += 1\n",
    "            else:\n",
    "\n",
    "                for j in range(len(list_item)):\n",
    "\n",
    "                    if summ and keySum:\n",
    "                        if not list_item[j] in dict_value:\n",
    "                            dict_value[\n",
    "                                list_item[j]] = data[keySum].values[k]\n",
    "                        else:\n",
    "                            dict_value[\n",
    "                                list_item[j]] += data[keySum].values[k]\n",
    "                    else:\n",
    "                        if not list_item[j] in dict_value:\n",
    "                            dict_value[list_item[j]] = 1\n",
    "                        else:\n",
    "                            dict_value[list_item[j]] += 1\n",
    "        else:\n",
    "            list_item = data[key].values[k]\n",
    "\n",
    "            if summ and keySum:\n",
    "                if not list_item in dict_value:\n",
    "                    dict_value[list_item] = data[keySum].values[k]\n",
    "                else:\n",
    "                    dict_value[list_item] += data[keySum].values[k]\n",
    "            else:\n",
    "                if not list_item in dict_value:\n",
    "                        dict_value[list_item] = 1\n",
    "                else:\n",
    "                    dict_value[list_item] += 1\n",
    "\n",
    "    list_value = list(dict_value.values())\n",
    "    frame_value = pd.DataFrame([[list_value[g]]\n",
    "                                for g in range(len(list_value))],\n",
    "                    columns=['values'],\n",
    "                    index=list(dict_value.keys()))\n",
    "\n",
    "    return frame_value"
   ]
  },
  {
   "cell_type": "markdown",
   "metadata": {
    "colab_type": "text",
    "id": "YxZaH-nPVp-L"
   },
   "source": [
    "# 1. У какого фильма из списка самый большой бюджет?"
   ]
  },
  {
   "cell_type": "markdown",
   "metadata": {
    "colab_type": "text",
    "id": "Nd-G5gX6Vp-M"
   },
   "source": [
    "Использовать варианты ответов в коде решения запрещено.    \n",
    "Вы думаете и в жизни у вас будут варианты ответов?)"
   ]
  },
  {
   "cell_type": "code",
   "execution_count": 6,
   "metadata": {
    "colab": {},
    "colab_type": "code",
    "id": "uVnXAY5RVp-O"
   },
   "outputs": [],
   "source": [
    "#=============================================================================\n",
    "# в словарь вставляем номер вопроса и ваш ответ на него\n",
    "# Пример: \n",
    "answers['1'] = '2. Spider-Man 3 (tt0413300)'\n",
    "# запишите свой вариант ответа\n",
    "# +\n",
    "answers['1'] = '723. Pirates of the Caribbean: On Stranger Tides (tt1298650)'\n",
    "# если ответили верно, можете добавить комментарий со значком \"+\""
   ]
  },
  {
   "cell_type": "code",
   "execution_count": 7,
   "metadata": {
    "colab": {},
    "colab_type": "code",
    "id": "dZwb3m28Vp-S"
   },
   "outputs": [
    {
     "output_type": "stream",
     "name": "stdout",
     "text": [
      "723. Pirates of the Caribbean: On Stranger Tides (tt1298650) $380000000\n"
     ]
    }
   ],
   "source": [
    "#=============================================================================\n",
    "# тут пишем ваш код для решения данного вопроса:\n",
    "index = data[data.budget == data.budget.max()].index[0]\n",
    "original_title = data[data.budget\n",
    "                    == data.budget.max()].original_title.values[0]\n",
    "imdb_id = data[data.budget== data.budget.max()].imdb_id.values[0]\n",
    "budget = data.budget.max()\n",
    "\n",
    "print(f'{index}. {original_title} ({imdb_id}) ${budget}')"
   ]
  },
  {
   "cell_type": "markdown",
   "metadata": {
    "colab_type": "text",
    "id": "K7L3nbRXVp-X"
   },
   "source": [
    "ВАРИАНТ 2"
   ]
  },
  {
   "cell_type": "code",
   "execution_count": 8,
   "metadata": {
    "colab": {},
    "colab_type": "code",
    "id": "OGaoQI7rVp-X"
   },
   "outputs": [],
   "source": [
    "# можно добавлять разные варианты решения"
   ]
  },
  {
   "cell_type": "markdown",
   "metadata": {
    "colab_type": "text",
    "id": "FNRbbI3vVp-c"
   },
   "source": [
    "# 2. Какой из фильмов самый длительный (в минутах)?"
   ]
  },
  {
   "cell_type": "code",
   "execution_count": 9,
   "metadata": {
    "colab": {},
    "colab_type": "code",
    "id": "vHAoEXNTVp-d"
   },
   "outputs": [],
   "source": [
    "# думаю логику работы с этим словарем вы уже поняли, \n",
    "# по этому не буду больше его дублировать\n",
    "# +\n",
    "answers['2'] = '1157. Gods and Generals (tt0279111)'"
   ]
  },
  {
   "cell_type": "code",
   "execution_count": 10,
   "metadata": {
    "colab": {},
    "colab_type": "code",
    "id": "ot-VX2XrVp-g"
   },
   "outputs": [
    {
     "output_type": "stream",
     "name": "stdout",
     "text": [
      "1157. Gods and Generals (tt0279111) 214 min\n"
     ]
    }
   ],
   "source": [
    "#=============================================================================\n",
    "index = data[data.runtime == data.runtime.max()].index[0]\n",
    "original_title = data[data.runtime\n",
    "                        == data.runtime.max()].original_title.values[0]\n",
    "imdb_id = data[data.runtime == data.runtime.max()].imdb_id.values[0]\n",
    "runtime = data.runtime.max()\n",
    "\n",
    "print(f'{index}. {original_title} ({imdb_id}) {runtime} min')"
   ]
  },
  {
   "cell_type": "markdown",
   "metadata": {
    "colab_type": "text",
    "id": "bapLlpW8Vp-k"
   },
   "source": [
    "# 3. Какой из фильмов самый короткий (в минутах)?\n",
    "\n",
    "\n",
    "\n"
   ]
  },
  {
   "cell_type": "code",
   "execution_count": 11,
   "metadata": {},
   "outputs": [],
   "source": [
    "# +\n",
    "answers['3'] = '768. Winnie the Pooh (tt1449283)'"
   ]
  },
  {
   "cell_type": "code",
   "execution_count": 12,
   "metadata": {
    "colab": {},
    "colab_type": "code",
    "id": "YBxaSHuAVp-l"
   },
   "outputs": [
    {
     "output_type": "stream",
     "name": "stdout",
     "text": [
      "768. Winnie the Pooh (tt1449283) 63 min\n"
     ]
    }
   ],
   "source": [
    "#=============================================================================\n",
    "index = data[data.runtime == data.runtime.min()].index[0]\n",
    "original_title = data[data.runtime\n",
    "                        == data.runtime.min()].original_title.values[0]\n",
    "imdb_id = data[data.runtime == data.runtime.min()].imdb_id.values[0]\n",
    "runtime = data.runtime.min()\n",
    "\n",
    "print(f'{index}. {original_title} ({imdb_id}) {runtime} min')"
   ]
  },
  {
   "cell_type": "markdown",
   "metadata": {
    "colab_type": "text",
    "id": "TfQbxbfNVp-p"
   },
   "source": [
    "# 4. Какова средняя длительность фильмов?\n"
   ]
  },
  {
   "cell_type": "code",
   "execution_count": 13,
   "metadata": {},
   "outputs": [],
   "source": [
    "# +\n",
    "answers['4'] = '110'"
   ]
  },
  {
   "cell_type": "code",
   "execution_count": 14,
   "metadata": {
    "colab": {},
    "colab_type": "code",
    "id": "5K6dKZYVVp-q"
   },
   "outputs": [
    {
     "output_type": "execute_result",
     "data": {
      "text/plain": [
       "110.0"
      ]
     },
     "metadata": {},
     "execution_count": 14
    }
   ],
   "source": [
    "round(data.runtime.mean(),0)"
   ]
  },
  {
   "cell_type": "markdown",
   "metadata": {
    "colab_type": "text",
    "id": "r5TvbnT_Vp-u"
   },
   "source": [
    "# 5. Каково медианное значение длительности фильмов? "
   ]
  },
  {
   "cell_type": "code",
   "execution_count": 15,
   "metadata": {},
   "outputs": [],
   "source": [
    "# +\n",
    "answers['5'] = '107'"
   ]
  },
  {
   "cell_type": "code",
   "execution_count": 16,
   "metadata": {
    "colab": {},
    "colab_type": "code",
    "id": "iBROplKnVp-v"
   },
   "outputs": [
    {
     "output_type": "execute_result",
     "data": {
      "text/plain": [
       "107"
      ]
     },
     "metadata": {},
     "execution_count": 16
    }
   ],
   "source": [
    "round(data.runtime.median())"
   ]
  },
  {
   "cell_type": "markdown",
   "metadata": {
    "colab_type": "text",
    "id": "39P-deDSVp-y"
   },
   "source": [
    "# 6. Какой самый прибыльный фильм?\n",
    "#### Внимание! Здесь и далее под «прибылью» или «убытками» понимается разность между сборами и бюджетом фильма. (прибыль = сборы - бюджет) в нашем датасете это будет (profit = revenue - budget) "
   ]
  },
  {
   "cell_type": "code",
   "execution_count": 17,
   "metadata": {},
   "outputs": [],
   "source": [
    "# +\n",
    "answers['6'] = 'Avatar (tt0499549)'"
   ]
  },
  {
   "cell_type": "code",
   "execution_count": 18,
   "metadata": {
    "colab": {},
    "colab_type": "code",
    "id": "UYZh4T9WVp-y"
   },
   "outputs": [
    {
     "output_type": "stream",
     "name": "stdout",
     "text": [
      "239. Avatar (tt0499549) 2544505847\n"
     ]
    }
   ],
   "source": [
    "# лучше код получения столбца profit вынести в Предобработку что в начале\n",
    "#=============================================================================\n",
    "index_profit = data[data.profit == data.profit.max()].index[0]\n",
    "original_title_profit = data[data.profit\n",
    "                                == data.profit.max()].original_title.values[0]\n",
    "imdb_id_profit = data[data.profit == data.profit.max()].imdb_id.values[0]\n",
    "max_profit = data.profit.max()\n",
    "\n",
    "print(f'{index_profit}. {original_title_profit}',\n",
    "        f'({imdb_id_profit}) {max_profit}')"
   ]
  },
  {
   "cell_type": "markdown",
   "metadata": {
    "colab_type": "text",
    "id": "M99JmIX4Vp-2"
   },
   "source": [
    "# 7. Какой фильм самый убыточный? "
   ]
  },
  {
   "cell_type": "code",
   "execution_count": 19,
   "metadata": {},
   "outputs": [],
   "source": [
    "# +\n",
    "answers['7'] = 'The Lone Ranger (tt1210819)'"
   ]
  },
  {
   "cell_type": "code",
   "execution_count": 20,
   "metadata": {
    "colab": {},
    "colab_type": "code",
    "id": "w-D2m4XPVp-3"
   },
   "outputs": [
    {
     "output_type": "stream",
     "name": "stdout",
     "text": [
      "1245. The Lone Ranger (tt1210819) -165710090\n"
     ]
    }
   ],
   "source": [
    "#=============================================================================\n",
    "index_profit_min = data[data.profit == data.profit.min()].index[0]\n",
    "original_title_profit_min = data[data.profit\n",
    "                                == data.profit.min()].original_title.values[0]\n",
    "imdb_id_profit_min = data[data.profit == data.profit.min()].imdb_id.values[0]\n",
    "min_profit = data.profit.min()\n",
    "\n",
    "print(f'{index_profit_min}. {original_title_profit_min}',\n",
    "        f'({imdb_id_profit_min}) {min_profit}')"
   ]
  },
  {
   "cell_type": "markdown",
   "metadata": {
    "colab_type": "text",
    "id": "wEOM5ERVVp-6"
   },
   "source": [
    "# 8. У скольких фильмов из датасета объем сборов оказался выше бюджета?"
   ]
  },
  {
   "cell_type": "code",
   "execution_count": 21,
   "metadata": {},
   "outputs": [],
   "source": [
    "# +\n",
    "answers['8'] = '1478'"
   ]
  },
  {
   "cell_type": "code",
   "execution_count": 22,
   "metadata": {
    "colab": {},
    "colab_type": "code",
    "id": "y00_7HD6Vp-7"
   },
   "outputs": [
    {
     "output_type": "display_data",
     "data": {
      "text/plain": "1478"
     },
     "metadata": {}
    }
   ],
   "source": [
    "#=============================================================================\n",
    "revenue_budget = data[data.revenue > data.budget]\n",
    "display(revenue_budget.revenue.count())"
   ]
  },
  {
   "cell_type": "markdown",
   "metadata": {
    "colab_type": "text",
    "id": "xhpspA9KVp_A"
   },
   "source": [
    "# 9. Какой фильм оказался самым кассовым в 2008 году?"
   ]
  },
  {
   "cell_type": "code",
   "execution_count": 23,
   "metadata": {},
   "outputs": [],
   "source": [
    "# +\n",
    "answers['9'] = 'The Dark Knight (tt0468569)'"
   ]
  },
  {
   "cell_type": "code",
   "execution_count": 24,
   "metadata": {
    "colab": {},
    "colab_type": "code",
    "id": "MoUyQr9RVp_B"
   },
   "outputs": [
    {
     "output_type": "stream",
     "name": "stdout",
     "text": [
      "599. The Dark Knight (tt0468569) 2781505847\n"
     ]
    }
   ],
   "source": [
    "#=============================================================================\n",
    "revenue = data[data.release_year == 2008]\n",
    "revenue = revenue[revenue.revenue == revenue.revenue.max()]\n",
    "index_revenue = revenue.index[0]\n",
    "original_title_revenue = revenue.original_title.values[0]\n",
    "imdb_id_revenue = revenue.imdb_id.values[0]\n",
    "max_revenue = data.revenue.max()\n",
    "\n",
    "print(f'{index_revenue}. {original_title_revenue} ({imdb_id_revenue})',\n",
    "            f\"{max_revenue}\")"
   ]
  },
  {
   "cell_type": "markdown",
   "metadata": {
    "colab_type": "text",
    "id": "Zi4hDKidVp_F"
   },
   "source": [
    "# 10. Самый убыточный фильм за период с 2012 по 2014 г. (включительно)?\n"
   ]
  },
  {
   "cell_type": "code",
   "execution_count": 25,
   "metadata": {},
   "outputs": [],
   "source": [
    "# +\n",
    "answers['10'] = 'The Lone Ranger (tt1210819)'"
   ]
  },
  {
   "cell_type": "code",
   "execution_count": 26,
   "metadata": {
    "colab": {},
    "colab_type": "code",
    "id": "XqyRmufJVp_F"
   },
   "outputs": [
    {
     "output_type": "stream",
     "name": "stdout",
     "text": [
      "1245. The Lone Ranger (tt1210819) -165710090\n"
     ]
    }
   ],
   "source": [
    "#=============================================================================\n",
    "profit = data[(data.profit == data.profit.min())\n",
    "                & (data.release_year >= 2012)\n",
    "                & (data.release_year <= 2014)]\n",
    "index_min_year = profit.index[0]\n",
    "original_title_min_year = profit.original_title.values[0]\n",
    "imdb_id_min_year = profit.imdb_id.values[0]\n",
    "min_year = profit.profit.min()\n",
    "\n",
    "print(f'{index_min_year}. {original_title_min_year} ({imdb_id_min_year})',\n",
    "        f'{min_year}')"
   ]
  },
  {
   "cell_type": "markdown",
   "metadata": {
    "colab_type": "text",
    "id": "EA7Sa9dkVp_I"
   },
   "source": [
    "# 11. Какого жанра фильмов больше всего?"
   ]
  },
  {
   "cell_type": "code",
   "execution_count": 27,
   "metadata": {},
   "outputs": [],
   "source": [
    "# +\n",
    "answers['11'] = 'Drama'"
   ]
  },
  {
   "cell_type": "code",
   "execution_count": 28,
   "metadata": {
    "colab": {},
    "colab_type": "code",
    "id": "zsJAwJ8QVp_J"
   },
   "outputs": [
    {
     "output_type": "stream",
     "name": "stdout",
     "text": [
      "Drama 782\n"
     ]
    }
   ],
   "source": [
    "# эту задачу тоже можно решать разными подходами, попробуй реализовать разные варианты\n",
    "# если будешь добавлять функцию - выноси ее в предобработку что в начале\n",
    "#=============================================================================\n",
    "genres_frame = dict_split_item(data,'genres')\n",
    "genres = genres_frame[genres_frame.values == genres_frame.values.max()]\n",
    "genres_index_max = genres.index[0]\n",
    "\n",
    "print(f'{genres_index_max} {genres_frame.values.max()}')"
   ]
  },
  {
   "cell_type": "markdown",
   "metadata": {
    "colab_type": "text",
    "id": "Ax6g2C8SVp_M"
   },
   "source": [
    "ВАРИАНТ 2"
   ]
  },
  {
   "cell_type": "code",
   "execution_count": 29,
   "metadata": {
    "colab": {},
    "colab_type": "code",
    "id": "otO3SbrSVp_N"
   },
   "outputs": [],
   "source": [
    "#============================================================================="
   ]
  },
  {
   "cell_type": "markdown",
   "metadata": {
    "colab_type": "text",
    "id": "T9_bPWpkVp_Q"
   },
   "source": [
    "# 12. Фильмы какого жанра чаще всего становятся прибыльными? "
   ]
  },
  {
   "cell_type": "code",
   "execution_count": 30,
   "metadata": {},
   "outputs": [],
   "source": [
    "# +\n",
    "answers['12'] = 'Drama'"
   ]
  },
  {
   "cell_type": "code",
   "execution_count": 31,
   "metadata": {
    "colab": {},
    "colab_type": "code",
    "id": "Tmt8MaK1Vp_R"
   },
   "outputs": [
    {
     "output_type": "stream",
     "name": "stdout",
     "text": [
      "Drama 560\n"
     ]
    }
   ],
   "source": [
    "#=============================================================================\n",
    "genres_max = dict_split_item(data[data.profit > 0], 'genres')\n",
    "index_max_value = genres_max[genres_max.values == genres_max.values.max()]\n",
    "\n",
    "print(f'{index_max_value.index[0]} {genres_max.values.max()}')"
   ]
  },
  {
   "cell_type": "markdown",
   "metadata": {
    "colab_type": "text",
    "id": "0F23bgsDVp_U"
   },
   "source": [
    "# 13. У какого режиссера самые большие суммарные кассовые сборы?"
   ]
  },
  {
   "cell_type": "code",
   "execution_count": 32,
   "metadata": {},
   "outputs": [],
   "source": [
    "# +\n",
    "answers['13'] = 'Peter Jackson'"
   ]
  },
  {
   "cell_type": "code",
   "execution_count": 33,
   "metadata": {
    "colab": {},
    "colab_type": "code",
    "id": "K6Z3J8ygVp_X"
   },
   "outputs": [
    {
     "output_type": "display_data",
     "data": {
      "text/plain": "'Peter Jackson 6490593685'"
     },
     "metadata": {}
    }
   ],
   "source": [
    "#=============================================================================\n",
    "director_frame = dict_split_item(data, 'director',summ=True,keySum='revenue')\n",
    "director_index = director_frame[director_frame.values\n",
    "                                    == director_frame.values.max()].index[0]\n",
    "\n",
    "display(f'{director_index} {director_frame.values.max()}')"
   ]
  },
  {
   "cell_type": "markdown",
   "metadata": {
    "colab_type": "text",
    "id": "PsYC9FgRVp_a"
   },
   "source": [
    "# 14. Какой режисер снял больше всего фильмов в стиле Action?"
   ]
  },
  {
   "cell_type": "code",
   "execution_count": 34,
   "metadata": {},
   "outputs": [],
   "source": [
    "# +\n",
    "answers['14'] = 'Robert Rodriguez'"
   ]
  },
  {
   "cell_type": "code",
   "execution_count": 35,
   "metadata": {
    "colab": {},
    "colab_type": "code",
    "id": "wd2M-wHeVp_b"
   },
   "outputs": [
    {
     "output_type": "display_data",
     "data": {
      "text/plain": "'Robert Rodriguez [9]'"
     },
     "metadata": {}
    }
   ],
   "source": [
    "#=============================================================================\n",
    "data_action = data[data.genres.str.contains('Action',na=False)]\n",
    "\n",
    "director_frame = False\n",
    "director_frame = dict_split_item(data_action,'director')\n",
    "director_name = director_frame[director_frame.values\n",
    "                                        == director_frame.values.max()]\n",
    "director_value = director_frame[director_frame.values\n",
    "                                    == director_frame.values.max()]\n",
    "display(f'{director_value.index[0]} {director_value.values[0]}')\n"
   ]
  },
  {
   "cell_type": "markdown",
   "metadata": {
    "colab_type": "text",
    "id": "PQ0KciD7Vp_f"
   },
   "source": [
    "# 15. Фильмы с каким актером принесли самые высокие кассовые сборы в 2012 году? "
   ]
  },
  {
   "cell_type": "code",
   "execution_count": 36,
   "metadata": {},
   "outputs": [],
   "source": [
    "# +\n",
    "answers['15'] = 'Chris Hemsworth'"
   ]
  },
  {
   "cell_type": "code",
   "execution_count": 37,
   "metadata": {
    "colab": {},
    "colab_type": "code",
    "id": "aga62oeKVp_g"
   },
   "outputs": [
    {
     "output_type": "display_data",
     "data": {
      "text/plain": "'Chris Hemsworth 2027450773'"
     },
     "metadata": {}
    }
   ],
   "source": [
    "#=============================================================================\n",
    "data_2012 = data[data.release_year == 2012]\n",
    "\n",
    "cast_revenue = {}\n",
    "for c in range(data_2012.cast.values.size):\n",
    "\n",
    "    cast_revenue_list = data_2012.cast.values[c].split('|');\n",
    "\n",
    "    for j in range(len(cast_revenue_list)):\n",
    "        if not cast_revenue_list[j] in cast_revenue:\n",
    "            cast_revenue[\n",
    "                cast_revenue_list[j]] = data_2012.revenue.values[c]\n",
    "        else:\n",
    "            cast_revenue[\n",
    "                cast_revenue_list[j]] += data_2012.revenue.values[c]\n",
    "\n",
    "cast_revenue_value = list(cast_revenue.values());\n",
    "cast_revenue_frame = pd.DataFrame([[cast_revenue_value[g]]\n",
    "                                    for g in range(len(cast_revenue_value))],\n",
    "                        columns=['values'],\n",
    "                        index=list(cast_revenue.keys()))\n",
    "\n",
    "result_cast = cast_revenue_frame[cast_revenue_frame.values\n",
    "                                    == cast_revenue_frame.values.max()]\n",
    "display(f'{result_cast.index[0]} {cast_revenue_frame.values.max()}')\n"
   ]
  },
  {
   "cell_type": "markdown",
   "metadata": {
    "colab_type": "text",
    "id": "mWHyyL7QVp_j"
   },
   "source": [
    "# 16. Какой актер снялся в большем количестве высокобюджетных фильмов?"
   ]
  },
  {
   "cell_type": "code",
   "execution_count": 38,
   "metadata": {},
   "outputs": [],
   "source": [
    "# +\n",
    "answers['16'] = 'Matt Damon'"
   ]
  },
  {
   "cell_type": "code",
   "execution_count": 39,
   "metadata": {
    "colab": {},
    "colab_type": "code",
    "id": "qQtmHKTFVp_k"
   },
   "outputs": [
    {
     "output_type": "display_data",
     "data": {
      "text/plain": "'Matt Damon 18'"
     },
     "metadata": {}
    }
   ],
   "source": [
    "#=============================================================================\n",
    "data_budget_cast = data[data.budget > data.budget.mean()]\n",
    "\n",
    "cast_budget_frame = dict_split_item(data_budget_cast, 'cast')\n",
    "index_budget = cast_budget_frame[cast_budget_frame.values\n",
    "                                    == cast_budget_frame.values.max()]\n",
    "\n",
    "display(f'{index_budget.index[0]} {cast_budget_frame.values.max()}')\n",
    "\n",
    "\n"
   ]
  },
  {
   "cell_type": "markdown",
   "metadata": {
    "colab_type": "text",
    "id": "NIh6AaW5Vp_n"
   },
   "source": [
    "# 17. В фильмах какого жанра больше всего снимался Nicolas Cage? "
   ]
  },
  {
   "cell_type": "code",
   "execution_count": 40,
   "metadata": {},
   "outputs": [],
   "source": [
    "# +\n",
    "answers['17'] = 'Action'"
   ]
  },
  {
   "cell_type": "code",
   "execution_count": 41,
   "metadata": {
    "colab": {},
    "colab_type": "code",
    "id": "H74SJDIBVp_n"
   },
   "outputs": [
    {
     "output_type": "display_data",
     "data": {
      "text/plain": "'Action 17'"
     },
     "metadata": {}
    }
   ],
   "source": [
    "#=============================================================================\n",
    "data_cast_cage = data[data.cast.str.contains('Nicolas Cage',na=False)]\n",
    "film_genres_cast = dict_split_item(data_cast_cage,'genres')\n",
    "index_cage = film_genres_cast[film_genres_cast.values\n",
    "                                == film_genres_cast.values.max()]\n",
    "\n",
    "display(f'{index_cage.index[0]} {film_genres_cast.values.max()}')"
   ]
  },
  {
   "cell_type": "markdown",
   "metadata": {
    "colab_type": "text",
    "id": "RqOmPRfWVp_q"
   },
   "source": [
    "# 18. Самый убыточный фильм от Paramount Pictures"
   ]
  },
  {
   "cell_type": "code",
   "execution_count": 42,
   "metadata": {},
   "outputs": [],
   "source": [
    "# +\r\n",
    "answers['18'] = 'K-19: The Widowmaker (tt0267626)'"
   ]
  },
  {
   "cell_type": "code",
   "execution_count": 43,
   "metadata": {
    "colab": {},
    "colab_type": "code",
    "id": "9E_B0Y96Vp_r"
   },
   "outputs": [
    {
     "output_type": "display_data",
     "data": {
      "text/plain": "'K-19: The Widowmaker (tt0267626)'"
     },
     "metadata": {}
    }
   ],
   "source": [
    "#=============================================================================\n",
    "data_company = data[data.production_companies.str.contains(\n",
    "                                                    'Paramount Pictures',\n",
    "                                                    na=False)]\n",
    "company_profit = data_company[data_company.profit\n",
    "                                == data_company.profit.min()]\n",
    "company_imdb_id = company_profit.imdb_id.values[0]\n",
    "company_original_title = company_profit.original_title.values[0]\n",
    "display(f'{company_original_title} ({company_imdb_id})')"
   ]
  },
  {
   "cell_type": "markdown",
   "metadata": {
    "colab_type": "text",
    "id": "vS8Ur6ddVp_u"
   },
   "source": [
    "# 19. Какой год стал самым успешным по суммарным кассовым сборам?"
   ]
  },
  {
   "cell_type": "code",
   "execution_count": 44,
   "metadata": {},
   "outputs": [],
   "source": [
    "# +\n",
    "answers['19'] = '2015'"
   ]
  },
  {
   "cell_type": "code",
   "execution_count": 45,
   "metadata": {
    "colab": {},
    "colab_type": "code",
    "id": "Dnbt4GdIVp_v"
   },
   "outputs": [
    {
     "output_type": "display_data",
     "data": {
      "text/plain": "'2015 [25449202382]'"
     },
     "metadata": {}
    }
   ],
   "source": [
    "#=============================================================================\n",
    "data_revenue = dict_split_item(\n",
    "                    data,'release_year',\n",
    "                    split=False,summ=True,keySum='revenue')\n",
    "year_revenue = data_revenue[data_revenue.values\n",
    "                            == data_revenue.values.max()]\n",
    "display(f'{year_revenue.index[0]} {year_revenue.values[0]}')"
   ]
  },
  {
   "cell_type": "markdown",
   "metadata": {
    "colab_type": "text",
    "id": "JAzJh4QAVp_z"
   },
   "source": [
    "# 20. Какой самый прибыльный год для студии Warner Bros?"
   ]
  },
  {
   "cell_type": "code",
   "execution_count": 46,
   "metadata": {},
   "outputs": [],
   "source": [
    "# +\n",
    "answers['20'] = '2014'"
   ]
  },
  {
   "cell_type": "code",
   "execution_count": 47,
   "metadata": {
    "colab": {},
    "colab_type": "code",
    "id": "wgVu02DEVp_0"
   },
   "outputs": [
    {
     "output_type": "display_data",
     "data": {
      "text/plain": "'2014 [2295464519]'"
     },
     "metadata": {}
    }
   ],
   "source": [
    "#=============================================================================\n",
    "data_company_w = data[data.production_companies.str.contains(\n",
    "                                                    'Warner Bros',\n",
    "                                                    na=False)]\n",
    "data_year_company = dict_split_item(data_company_w,\n",
    "                                    'release_year',\n",
    "                                    split=False,\n",
    "                                    summ=True,\n",
    "                                    keySum='profit')\n",
    "year_company_profit = data_year_company[data_year_company.values\n",
    "                                        == data_year_company.values.max()]\n",
    "display(f'{year_company_profit.index[0]} {year_company_profit.values[0]}')"
   ]
  },
  {
   "cell_type": "markdown",
   "metadata": {
    "colab_type": "text",
    "id": "8Im1S2HRVp_4"
   },
   "source": [
    "# 21. В каком месяце за все годы суммарно вышло больше всего фильмов?"
   ]
  },
  {
   "cell_type": "code",
   "execution_count": 48,
   "metadata": {},
   "outputs": [],
   "source": [
    "# +\n",
    "answers['21'] = 'Сентябрь'"
   ]
  },
  {
   "cell_type": "code",
   "execution_count": 50,
   "metadata": {
    "colab": {},
    "colab_type": "code",
    "id": "lev6TH7gVp_4"
   },
   "outputs": [
    {
     "output_type": "display_data",
     "data": {
      "text/plain": "'Сентябрь [227]'"
     },
     "metadata": {}
    }
   ],
   "source": [
    "#=============================================================================\n",
    "month_years_sum = dict_split_item(data, 'release_date',\n",
    "                                    sep='/',split=True,summ=False,\n",
    "                                    keySum=False,indexSplit=0)\n",
    "year_month_max = month_years_sum[month_years_sum.values\n",
    "                                    == month_years_sum.values.max()]\n",
    "\n",
    "display(f'{dict_month[year_month_max.index[0]]} {year_month_max.values[0]}')"
   ]
  },
  {
   "cell_type": "markdown",
   "metadata": {
    "colab_type": "text",
    "id": "uAJsZ_NeVp_7"
   },
   "source": [
    "# 22. Сколько суммарно вышло фильмов летом? (за июнь, июль, август)"
   ]
  },
  {
   "cell_type": "code",
   "execution_count": 51,
   "metadata": {},
   "outputs": [],
   "source": [
    "# +\n",
    "answers['22'] = '450'"
   ]
  },
  {
   "cell_type": "code",
   "execution_count": 52,
   "metadata": {
    "colab": {},
    "colab_type": "code",
    "id": "Aa-hEREoVp_8"
   },
   "outputs": [
    {
     "output_type": "display_data",
     "data": {
      "text/plain": "450"
     },
     "metadata": {}
    }
   ],
   "source": [
    "#=============================================================================\n",
    "films_summer_sum = dict_split_item(data, 'release_date',\n",
    "                                    sep='/',split=True,summ=False,\n",
    "                                    keySum=False,indexSplit=0)\n",
    "films_summer = month_years_sum[(films_summer_sum.index == '6')\n",
    "                                | (films_summer_sum.index == '7')\n",
    "                                | (films_summer_sum.index == '8')\n",
    "                            ].sum().values[0]\n",
    "display(films_summer)"
   ]
  },
  {
   "cell_type": "markdown",
   "metadata": {
    "colab_type": "text",
    "id": "G94ppOY1VqAA"
   },
   "source": [
    "# 23. Для какого режиссера зима – самое продуктивное время года? "
   ]
  },
  {
   "cell_type": "code",
   "execution_count": 53,
   "metadata": {},
   "outputs": [],
   "source": [
    "# +\n",
    "answers['23'] = 'Peter Jackson'"
   ]
  },
  {
   "cell_type": "code",
   "execution_count": 87,
   "metadata": {
    "colab": {},
    "colab_type": "code",
    "id": "RhNTsamuVqAB"
   },
   "outputs": [
    {
     "output_type": "display_data",
     "data": {
      "text/plain": "'Peter Jackson [7]'"
     },
     "metadata": {}
    }
   ],
   "source": [
    "#=============================================================================\n",
    "films_data = data[data.release_date.str.match('12/',na=False)\n",
    "                    | data.release_date.str.match('1/',na=False)\n",
    "                    | data.release_date.str.match('2/',na=False)]\n",
    "\n",
    "director_winter = dict_split_item(films_data,'director')\n",
    "director_max = director_winter[director_winter.values\n",
    "                                == director_winter.values.max()]\n",
    "\n",
    "display(f'{director_max.index[0]} {director_max.values[0]}')\n"
   ]
  },
  {
   "cell_type": "markdown",
   "metadata": {
    "colab_type": "text",
    "id": "RBo0JVjVVqAF"
   },
   "source": [
    "# 24. Какая студия дает самые длинные названия своим фильмам по количеству символов?"
   ]
  },
  {
   "cell_type": "code",
   "execution_count": 102,
   "metadata": {},
   "outputs": [],
   "source": [
    "# +\n",
    "answers['24'] = 'Warner Bros.'"
   ]
  },
  {
   "cell_type": "code",
   "execution_count": 103,
   "metadata": {
    "colab": {},
    "colab_type": "code",
    "id": "QRGS8L0iVqAG"
   },
   "outputs": [
    {
     "output_type": "display_data",
     "data": {
      "text/plain": "'Warner Bros. [2616]'"
     },
     "metadata": {}
    }
   ],
   "source": [
    "#=============================================================================\n",
    "#films_com = str_sum(data)#data.production_companies.unique()\n",
    "studio_str_frame = dict_split_item(data, 'production_companies', summ=True,\n",
    "                                    keySum='str_title')\n",
    "studio_str = studio_str_frame[studio_str_frame.values\n",
    "                                == studio_str_frame.values.max()]\n",
    "display(f'{studio_str.index[0]} {studio_str.values[0]}')\n",
    "#studio_str = films_com[films_com.values == films_com.values.max()]\n",
    "#display(f'{studio_str.index[0]} {studio_str.values[0]}')"
   ]
  },
  {
   "cell_type": "markdown",
   "metadata": {
    "colab_type": "text",
    "id": "9G0hbvR7VqAK"
   },
   "source": [
    "# 25. Описание фильмов какой студии в среднем самые длинные по количеству слов?"
   ]
  },
  {
   "cell_type": "code",
   "execution_count": 57,
   "metadata": {},
   "outputs": [],
   "source": [
    "# +\n",
    "answers['25'] = 'Universal Pictures'"
   ]
  },
  {
   "cell_type": "code",
   "execution_count": 107,
   "metadata": {
    "colab": {},
    "colab_type": "code",
    "id": "Ge2GsLNxVqAK"
   },
   "outputs": [
    {
     "output_type": "display_data",
     "data": {
      "text/plain": "'Universal Pictures [9287]'"
     },
     "metadata": {}
    }
   ],
   "source": [
    "#=============================================================================\n",
    "studio_overview_frame = dict_split_item(data, 'production_companies',\n",
    "                                        summ=True, keySum='str_overview')\n",
    "studio_overview = studio_overview_frame[studio_overview_frame.values\n",
    "                                == studio_overview_frame.values.max()]\n",
    "display(f'{studio_overview.index[0]} {studio_overview.values[0]}')\n",
    "\n",
    "#display(data.str_overview)"
   ]
  },
  {
   "cell_type": "markdown",
   "metadata": {
    "colab_type": "text",
    "id": "FJ1AFt90VqAP"
   },
   "source": [
    "# 26. Какие фильмы входят в 1 процент лучших по рейтингу? \n",
    "по vote_average"
   ]
  },
  {
   "cell_type": "code",
   "execution_count": 58,
   "metadata": {},
   "outputs": [],
   "source": [
    "# +\n",
    "answers['26'] = ''"
   ]
  },
  {
   "cell_type": "code",
   "execution_count": 0,
   "metadata": {
    "colab": {},
    "colab_type": "code",
    "id": "8qmJVq4CVqAQ"
   },
   "outputs": [],
   "source": []
  },
  {
   "cell_type": "markdown",
   "metadata": {
    "colab_type": "text",
    "id": "MdXsUXbCVqAV"
   },
   "source": [
    "# 27. Какие актеры чаще всего снимаются в одном фильме вместе?\n"
   ]
  },
  {
   "cell_type": "code",
   "execution_count": 59,
   "metadata": {},
   "outputs": [],
   "source": [
    "# +\n",
    "answers['27'] = 'Daniel Radcliffe & Rupert Grint'"
   ]
  },
  {
   "cell_type": "code",
   "execution_count": null,
   "metadata": {},
   "outputs": [],
   "source": []
  },
  {
   "source": [
    "ВАРИАНТ 2"
   ],
   "cell_type": "markdown",
   "metadata": {
    "colab_type": "text",
    "id": "4ymnxEVoVqAW"
   }
  },
  {
   "cell_type": "markdown",
   "metadata": {
    "colab_type": "text",
    "id": "U0nONFnGVqAX"
   },
   "source": [
    "# Submission"
   ]
  },
  {
   "cell_type": "code",
   "execution_count": 60,
   "metadata": {
    "colab": {},
    "colab_type": "code",
    "id": "IfcaRO9-VqAX",
    "outputId": "0f132912-32bb-4196-c98c-abfbc4ad5a5f"
   },
   "outputs": [
    {
     "output_type": "execute_result",
     "data": {
      "text/plain": [
       "{'22': '450', '23': '', '24': '', '25': '', '26': '', '27': ''}"
      ]
     },
     "metadata": {},
     "execution_count": 60
    }
   ],
   "source": [
    "# в конце можно посмотреть свои ответы к каждому вопросу\n",
    "answers"
   ]
  },
  {
   "cell_type": "code",
   "execution_count": 61,
   "metadata": {
    "colab": {},
    "colab_type": "code",
    "id": "SiRmHPl8VqAd"
   },
   "outputs": [
    {
     "output_type": "execute_result",
     "data": {
      "text/plain": [
       "6"
      ]
     },
     "metadata": {},
     "execution_count": 61
    }
   ],
   "source": [
    "# и убедиться что ни чего не пропустил)\n",
    "len(answers)"
   ]
  },
  {
   "cell_type": "code",
   "execution_count": 0,
   "metadata": {
    "colab": {},
    "colab_type": "code",
    "id": "uCfuTkRbVqAg"
   },
   "outputs": [],
   "source": []
  },
  {
   "cell_type": "code",
   "execution_count": 0,
   "metadata": {
    "colab": {},
    "colab_type": "code",
    "id": "Vwx3NrkSVqAl"
   },
   "outputs": [],
   "source": []
  }
 ],
 "metadata": {
  "colab": {
   "name": "Copy of [SF-DST] Movies IMBD v4.1 TEMPLATE.ipynb",
   "provenance": []
  },
  "kernelspec": {
   "name": "python3",
   "display_name": "Python 3.9.5 64-bit ('.v-machine': venv)"
  },
  "language_info": {
   "codemirror_mode": {
    "name": "ipython",
    "version": 3
   },
   "file_extension": ".py",
   "mimetype": "text/x-python",
   "name": "python",
   "nbconvert_exporter": "python",
   "pygments_lexer": "ipython3",
   "version": "3.9.5"
  },
  "interpreter": {
   "hash": "91bb9dfb0aa2682d472899f8fcdc6f7a97cda47a987b16065f36f3e8fc272924"
  }
 },
 "nbformat": 4,
 "nbformat_minor": 1
}